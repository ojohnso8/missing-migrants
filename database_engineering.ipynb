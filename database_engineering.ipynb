{
 "cells": [
  {
   "cell_type": "markdown",
   "metadata": {},
   "source": [
    "## Database Engineering"
   ]
  },
  {
   "cell_type": "code",
   "execution_count": 160,
   "metadata": {},
   "outputs": [],
   "source": [
    "#Dependencies\n",
    "import pandas as pd\n",
    "import csv"
   ]
  },
  {
   "cell_type": "code",
   "execution_count": 161,
   "metadata": {},
   "outputs": [],
   "source": [
    "# Python SQL toolkit and Object Relational Mapper\n",
    "import sqlalchemy\n",
    "from sqlalchemy.orm import Session\n",
    "from sqlalchemy import create_engine, inspect, func\n",
    "# Import modules to declare columns and column data types\n",
    "from sqlalchemy import Column, Integer, String, Float\n",
    "# Import and establish Base for which classes will be constructed \n",
    "from sqlalchemy.ext.declarative import declarative_base\n",
    "Base = declarative_base()"
   ]
  },
  {
   "cell_type": "code",
   "execution_count": 162,
   "metadata": {},
   "outputs": [],
   "source": [
    "#Read the csv files into pandas dataframes\n",
    "migrant_df=pd.read_csv('MissingMigrants_Global_2019 2.csv')"
   ]
  },
  {
   "cell_type": "code",
   "execution_count": 163,
   "metadata": {},
   "outputs": [
    {
     "data": {
      "text/html": [
       "<div>\n",
       "<style scoped>\n",
       "    .dataframe tbody tr th:only-of-type {\n",
       "        vertical-align: middle;\n",
       "    }\n",
       "\n",
       "    .dataframe tbody tr th {\n",
       "        vertical-align: top;\n",
       "    }\n",
       "\n",
       "    .dataframe thead th {\n",
       "        text-align: right;\n",
       "    }\n",
       "</style>\n",
       "<table border=\"1\" class=\"dataframe\">\n",
       "  <thead>\n",
       "    <tr style=\"text-align: right;\">\n",
       "      <th></th>\n",
       "      <th>Web_ID</th>\n",
       "      <th>Region_of_Incident</th>\n",
       "      <th>Reported_Date</th>\n",
       "      <th>Reported_Year</th>\n",
       "      <th>Month</th>\n",
       "      <th>Number_Dead</th>\n",
       "      <th>Minimum_Estimated_Number_of_Missing</th>\n",
       "      <th>Total_Dead_and_Missing</th>\n",
       "      <th>Number_of_Survivors</th>\n",
       "      <th>Number_of_Females</th>\n",
       "      <th>...</th>\n",
       "      <th>Number_of_Children</th>\n",
       "      <th>Cause_of_Death</th>\n",
       "      <th>Location_Description</th>\n",
       "      <th>Information_Source</th>\n",
       "      <th>Lat</th>\n",
       "      <th>Lon</th>\n",
       "      <th>Migration_Route</th>\n",
       "      <th>URL</th>\n",
       "      <th>UNSD_Geographical_Grouping</th>\n",
       "      <th>Source_Quality</th>\n",
       "    </tr>\n",
       "  </thead>\n",
       "  <tbody>\n",
       "    <tr>\n",
       "      <th>0</th>\n",
       "      <td>51591</td>\n",
       "      <td>Mediterranean</td>\n",
       "      <td>March 28, 2019</td>\n",
       "      <td>2019</td>\n",
       "      <td>Mar</td>\n",
       "      <td>0</td>\n",
       "      <td>2</td>\n",
       "      <td>2</td>\n",
       "      <td>36</td>\n",
       "      <td>0</td>\n",
       "      <td>...</td>\n",
       "      <td>0</td>\n",
       "      <td>Presumed drowning</td>\n",
       "      <td>Off the coast of Chios, Greece</td>\n",
       "      <td>Hellenic Coast Guard via IOM Greece</td>\n",
       "      <td>38.362369</td>\n",
       "      <td>26.172509</td>\n",
       "      <td>Eastern Mediterranean</td>\n",
       "      <td>Not Available</td>\n",
       "      <td>Uncategorized</td>\n",
       "      <td>5</td>\n",
       "    </tr>\n",
       "    <tr>\n",
       "      <th>1</th>\n",
       "      <td>51588</td>\n",
       "      <td>Mediterranean</td>\n",
       "      <td>March 26, 2019</td>\n",
       "      <td>2019</td>\n",
       "      <td>Mar</td>\n",
       "      <td>4</td>\n",
       "      <td>0</td>\n",
       "      <td>4</td>\n",
       "      <td>11</td>\n",
       "      <td>3</td>\n",
       "      <td>...</td>\n",
       "      <td>1</td>\n",
       "      <td>Presumed drowning</td>\n",
       "      <td>Off the coast of Ayvacık district, Çanakkale p...</td>\n",
       "      <td>Turkish Coast Guard via IOM Turkey</td>\n",
       "      <td>39.441976</td>\n",
       "      <td>26.378816</td>\n",
       "      <td>Eastern Mediterranean</td>\n",
       "      <td>http://bit.ly/2YmiPAN</td>\n",
       "      <td>Uncategorized</td>\n",
       "      <td>5</td>\n",
       "    </tr>\n",
       "    <tr>\n",
       "      <th>2</th>\n",
       "      <td>51589</td>\n",
       "      <td>Mediterranean</td>\n",
       "      <td>March 26, 2019</td>\n",
       "      <td>2019</td>\n",
       "      <td>Mar</td>\n",
       "      <td>1</td>\n",
       "      <td>0</td>\n",
       "      <td>1</td>\n",
       "      <td>0</td>\n",
       "      <td>0</td>\n",
       "      <td>...</td>\n",
       "      <td>0</td>\n",
       "      <td>Presumed drowning</td>\n",
       "      <td>Body recovered on Playa del Tarajal, Ceuta, Sp...</td>\n",
       "      <td>Ceuta al día, El Pueblo de Ceuta</td>\n",
       "      <td>35.871902</td>\n",
       "      <td>-5.343038</td>\n",
       "      <td>Western Mediterranean</td>\n",
       "      <td>http://bit.ly/2uyj7qO, http://bit.ly/2uwj5zC</td>\n",
       "      <td>Uncategorized</td>\n",
       "      <td>3</td>\n",
       "    </tr>\n",
       "    <tr>\n",
       "      <th>3</th>\n",
       "      <td>51590</td>\n",
       "      <td>Mediterranean</td>\n",
       "      <td>March 26, 2019</td>\n",
       "      <td>2019</td>\n",
       "      <td>Mar</td>\n",
       "      <td>1</td>\n",
       "      <td>0</td>\n",
       "      <td>1</td>\n",
       "      <td>0</td>\n",
       "      <td>0</td>\n",
       "      <td>...</td>\n",
       "      <td>0</td>\n",
       "      <td>Presumed drowning</td>\n",
       "      <td>Body recovered on beach near Tetouan, Morocco ...</td>\n",
       "      <td>El Pueblo de Ceuta</td>\n",
       "      <td>35.635116</td>\n",
       "      <td>-5.275650</td>\n",
       "      <td>Western Mediterranean</td>\n",
       "      <td>http://bit.ly/2uwj5zC</td>\n",
       "      <td>Uncategorized</td>\n",
       "      <td>1</td>\n",
       "    </tr>\n",
       "    <tr>\n",
       "      <th>4</th>\n",
       "      <td>51587</td>\n",
       "      <td>Central America</td>\n",
       "      <td>March 25, 2019</td>\n",
       "      <td>2019</td>\n",
       "      <td>Mar</td>\n",
       "      <td>1</td>\n",
       "      <td>0</td>\n",
       "      <td>1</td>\n",
       "      <td>0</td>\n",
       "      <td>0</td>\n",
       "      <td>...</td>\n",
       "      <td>0</td>\n",
       "      <td>Fall from train</td>\n",
       "      <td>Train tracks in Teacalco, Tlaxcala, Mexico</td>\n",
       "      <td>Megalópolis, Línea de contraste</td>\n",
       "      <td>19.334475</td>\n",
       "      <td>-98.069824</td>\n",
       "      <td>Not Available</td>\n",
       "      <td>http://bit.ly/2uvDIvH, http://bit.ly/2TXAFLS</td>\n",
       "      <td>Central America</td>\n",
       "      <td>3</td>\n",
       "    </tr>\n",
       "  </tbody>\n",
       "</table>\n",
       "<p>5 rows × 21 columns</p>\n",
       "</div>"
      ],
      "text/plain": [
       "   Web_ID Region_of_Incident   Reported_Date  Reported_Year Month  \\\n",
       "0   51591      Mediterranean  March 28, 2019           2019   Mar   \n",
       "1   51588      Mediterranean  March 26, 2019           2019   Mar   \n",
       "2   51589      Mediterranean  March 26, 2019           2019   Mar   \n",
       "3   51590      Mediterranean  March 26, 2019           2019   Mar   \n",
       "4   51587    Central America  March 25, 2019           2019   Mar   \n",
       "\n",
       "   Number_Dead  Minimum_Estimated_Number_of_Missing  Total_Dead_and_Missing  \\\n",
       "0            0                                    2                       2   \n",
       "1            4                                    0                       4   \n",
       "2            1                                    0                       1   \n",
       "3            1                                    0                       1   \n",
       "4            1                                    0                       1   \n",
       "\n",
       "   Number_of_Survivors  Number_of_Females      ...        Number_of_Children  \\\n",
       "0                   36                  0      ...                         0   \n",
       "1                   11                  3      ...                         1   \n",
       "2                    0                  0      ...                         0   \n",
       "3                    0                  0      ...                         0   \n",
       "4                    0                  0      ...                         0   \n",
       "\n",
       "      Cause_of_Death                               Location_Description  \\\n",
       "0  Presumed drowning                     Off the coast of Chios, Greece   \n",
       "1  Presumed drowning  Off the coast of Ayvacık district, Çanakkale p...   \n",
       "2  Presumed drowning  Body recovered on Playa del Tarajal, Ceuta, Sp...   \n",
       "3  Presumed drowning  Body recovered on beach near Tetouan, Morocco ...   \n",
       "4    Fall from train         Train tracks in Teacalco, Tlaxcala, Mexico   \n",
       "\n",
       "                    Information_Source        Lat        Lon  \\\n",
       "0  Hellenic Coast Guard via IOM Greece  38.362369  26.172509   \n",
       "1   Turkish Coast Guard via IOM Turkey  39.441976  26.378816   \n",
       "2     Ceuta al día, El Pueblo de Ceuta  35.871902  -5.343038   \n",
       "3                   El Pueblo de Ceuta  35.635116  -5.275650   \n",
       "4      Megalópolis, Línea de contraste  19.334475 -98.069824   \n",
       "\n",
       "         Migration_Route                                           URL  \\\n",
       "0  Eastern Mediterranean                                 Not Available   \n",
       "1  Eastern Mediterranean                         http://bit.ly/2YmiPAN   \n",
       "2  Western Mediterranean  http://bit.ly/2uyj7qO, http://bit.ly/2uwj5zC   \n",
       "3  Western Mediterranean                         http://bit.ly/2uwj5zC   \n",
       "4          Not Available  http://bit.ly/2uvDIvH, http://bit.ly/2TXAFLS   \n",
       "\n",
       "  UNSD_Geographical_Grouping Source_Quality  \n",
       "0              Uncategorized              5  \n",
       "1              Uncategorized              5  \n",
       "2              Uncategorized              3  \n",
       "3              Uncategorized              1  \n",
       "4            Central America              3  \n",
       "\n",
       "[5 rows x 21 columns]"
      ]
     },
     "execution_count": 163,
     "metadata": {},
     "output_type": "execute_result"
    }
   ],
   "source": [
    "migrant_df.head()"
   ]
  },
  {
   "cell_type": "code",
   "execution_count": 164,
   "metadata": {},
   "outputs": [],
   "source": [
    "#Create and connect to the sqlite database\n",
    "engine = create_engine(\"sqlite:///migrant.sqlite\", echo=False)\n",
    "conn = engine.connect()"
   ]
  },
  {
   "cell_type": "code",
   "execution_count": 165,
   "metadata": {},
   "outputs": [],
   "source": [
    "# Create Migrant CLasses\n",
    "# ----------------------------------\n",
    "class Migrant(Base):\n",
    "    __tablename__ = 'migrant'\n",
    "    id = Column(Integer, primary_key=True)\n",
    "    web_id = Column(String(255))\n",
    "    region_of_incident = Column(String(255))\n",
    "    reported_date = Column(String(255))\n",
    "    reported_year = Column(String(255))\n",
    "    month = Column(String(255))\n",
    "    number_dead = Column(Integer)\n",
    "    minimum_estimated_number_of_missing = Column(Integer)\n",
    "    total_dead_and_missing = Column(Integer)\n",
    "    number_of_survivors = Column(Integer)\n",
    "    number_of_females = Column(Integer)\n",
    "    number_of_males = Column(Integer)\n",
    "    number_of_children = Column(Integer)\n",
    "    cause_of_death = Column(String(255))\n",
    "    location_description = Column(String(255))\n",
    "    information_source = Column(String(255))\n",
    "    Lat = Column(Float(255))\n",
    "    Lon = Column(Float(255))\n",
    "    migration_route = Column(String(255))\n",
    "    URL = Column(String(255))\n",
    "    unsd_geographical_grouping = Column(String(255))\n",
    "    source_quality = Column(Integer)\n",
    "    "
   ]
  },
  {
   "cell_type": "code",
   "execution_count": 166,
   "metadata": {},
   "outputs": [],
   "source": [
    "# Create both the table calsses within the database\n",
    "Base.metadata.create_all(conn)"
   ]
  },
  {
   "cell_type": "code",
   "execution_count": 167,
   "metadata": {},
   "outputs": [],
   "source": [
    "# Adding migrant data\n",
    "migrant_df.to_sql(name ='migrant', con=conn, if_exists='append', index=False)"
   ]
  },
  {
   "cell_type": "code",
   "execution_count": 168,
   "metadata": {},
   "outputs": [],
   "source": [
    "session = Session(bind=engine)"
   ]
  },
  {
   "cell_type": "code",
   "execution_count": 169,
   "metadata": {},
   "outputs": [
    {
     "data": {
      "text/plain": [
       "['migrant']"
      ]
     },
     "execution_count": 169,
     "metadata": {},
     "output_type": "execute_result"
    }
   ],
   "source": [
    "# Use the Inspector to explore the database and print the table names\n",
    "### BEGIN SOLUTION\n",
    "inspector = inspect(engine)\n",
    "inspector.get_table_names()\n",
    "### END SOLUTION"
   ]
  },
  {
   "cell_type": "code",
   "execution_count": 170,
   "metadata": {},
   "outputs": [
    {
     "data": {
      "text/plain": [
       "[(1, '51591', 'Mediterranean', 'March 28, 2019', '2019', 'Mar', 0, 2, 2, 36, 0, 2, 0, 'Presumed drowning', 'Off the coast of Chios, Greece', 'Hellenic Coast Guard via IOM Greece', 38.362368700000005, 26.17250947, 'Eastern Mediterranean', 'Not Available', 'Uncategorized', 5),\n",
       " (2, '51588', 'Mediterranean', 'March 26, 2019', '2019', 'Mar', 4, 0, 4, 11, 3, 0, 1, 'Presumed drowning', 'Off the coast of Ayvacık district, Çanakkale province, Turkey', 'Turkish Coast Guard via IOM Turkey', 39.44197559, 26.378816200000003, 'Eastern Mediterranean', 'http://bit.ly/2YmiPAN', 'Uncategorized', 5),\n",
       " (3, '51589', 'Mediterranean', 'March 26, 2019', '2019', 'Mar', 1, 0, 1, 0, 0, 0, 0, 'Presumed drowning', 'Body recovered on Playa del Tarajal, Ceuta, Spain (Strait of Gibraltar)', 'Ceuta al día, El Pueblo de Ceuta', 35.87190188, -5.343037666, 'Western Mediterranean', 'http://bit.ly/2uyj7qO, http://bit.ly/2uwj5zC', 'Uncategorized', 3),\n",
       " (4, '51590', 'Mediterranean', 'March 26, 2019', '2019', 'Mar', 1, 0, 1, 0, 0, 0, 0, 'Presumed drowning', 'Body recovered on beach near Tetouan, Morocco (Strait of Gibraltar)', 'El Pueblo de Ceuta', 35.63511591, -5.2756501039999995, 'Western Mediterranean', 'http://bit.ly/2uwj5zC', 'Uncategorized', 1),\n",
       " (5, '51587', 'Central America', 'March 25, 2019', '2019', 'Mar', 1, 0, 1, 0, 0, 1, 0, 'Fall from train', 'Train tracks in Teacalco, Tlaxcala, Mexico', 'Megalópolis, Línea de contraste', 19.33447518, -98.06982399, 'Not Available', 'http://bit.ly/2uvDIvH, http://bit.ly/2TXAFLS', 'Central America', 3),\n",
       " (6, '51580', 'US-Mexico Border', 'March 23, 2019', '2019', 'Mar', 1, 0, 1, 0, 0, 0, 0, 'Unknown (skeletal remains)', 'Pima County jurisdiction, Arizona, USA', 'Pima County Office of the Medical Examiner', 32.057499, -111.66607250000001, 'Not Available', 'http://www.humaneborders.info/', 'Northern America', 5),\n",
       " (7, '51581', 'US-Mexico Border', 'March 23, 2019', '2019', 'Mar', 1, 0, 1, 0, 0, 0, 0, 'Unknown (skeletal remains)', 'Pima County jurisdiction, Arizona, USA', 'Pima County Office of the Medical Examiner', 32.057499, -111.66607250000001, 'Not Available', 'http://www.humaneborders.info/', 'Northern America', 5),\n",
       " (8, '51585', 'Southeast Asia', 'March 23, 2019', '2019', 'Mar', 8, 2, 10, 0, 1, 0, 0, 'Vehicle Accident', 'Sa Setthi intersection in Tambon Ban Mai, Tha Muang district, Kanchanaburi, Thailand - en route to Myanmar', 'The Nation, Vietnam+', 13.86570481, 99.58724872, 'Not Available', 'http://bit.ly/2YqrMsT, http://bit.ly/2TzbavA', 'South-eastern Asia', 3),\n",
       " (9, '51586', 'Mediterranean', 'March 23, 2019', '2019', 'Mar', 4, 4, 8, 0, 3, 5, 0, 'Presumed drowning', 'Off the coast of Sfax, Tunisia', 'Shems FM, Tunisie Numérique, Kapitalis', 35.31703447, 11.07892826, 'Central Mediterranean', 'http://bit.ly/2U1K4C4, http://bit.ly/2HJW70B, http://tiny.cc/ekhi4y, http://tiny.cc/rshi4y', 'Uncategorized', 3),\n",
       " (10, '51578', 'US-Mexico Border', 'March 21, 2019', '2019', 'Mar', 1, 0, 1, 0, 0, 0, 0, 'Unknown (skeletal remains)', 'Pima County jurisdiction, Arizona, USA', 'Pima County Office of the Medical Examiner', 32.057499, -111.66607250000001, 'Not Available', 'http://www.humaneborders.info/', 'Northern America', 5)]"
      ]
     },
     "execution_count": 170,
     "metadata": {},
     "output_type": "execute_result"
    }
   ],
   "source": [
    "# Use `engine.execute` to select and display the first 10 rows from the station table\n",
    "### BEGIN SOLUTION\n",
    "engine.execute('SELECT * FROM migrant LIMIT 10').fetchall()\n",
    "### END SOLUTION"
   ]
  },
  {
   "cell_type": "code",
   "execution_count": null,
   "metadata": {
    "collapsed": true
   },
   "outputs": [],
   "source": []
  }
 ],
 "metadata": {
  "kernelspec": {
   "display_name": "Python 3",
   "language": "python",
   "name": "python3"
  },
  "language_info": {
   "codemirror_mode": {
    "name": "ipython",
    "version": 3
   },
   "file_extension": ".py",
   "mimetype": "text/x-python",
   "name": "python",
   "nbconvert_exporter": "python",
   "pygments_lexer": "ipython3",
   "version": "3.7.1"
  }
 },
 "nbformat": 4,
 "nbformat_minor": 2
}
